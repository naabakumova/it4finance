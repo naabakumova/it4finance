{
 "cells": [
  {
   "cell_type": "code",
   "execution_count": 1,
   "metadata": {},
   "outputs": [
    {
     "name": "stdout",
     "output_type": "stream",
     "text": [
      "Insert password: ········\n",
      "{'user': 'postgres', 'dbname': 'postgres', 'host': 'localhost', 'port': '5432', 'tty': '', 'options': '', 'sslmode': 'prefer', 'sslcompression': '0', 'krbsrvname': 'postgres', 'target_session_attrs': 'any'}\n"
     ]
    }
   ],
   "source": [
    "\n",
    "\n",
    "# Cоединим библиотеку с базой данных (зайдем в Posgresql, после введения пользовательского пароля выберем  \"Servers\",затем кликаем правой кнопкой мыши, в сплывающем окне выбираем \"Properties\", переходим в раздел \"Connection\".\n",
    "# Увидим отображенные данные\n",
    "\n",
    "import psycopg2 \n",
    "#  - драйвер для postgresql\n",
    "import getpass  \n",
    "# можно скрыть пароль, но не обязательно  \n",
    "# в строке password необходимо указать пароль от базы данных \n",
    "\n",
    "conn=psycopg2.connect(user='postgres',\n",
    "                      database='postgres',\n",
    "                      host='localhost',\n",
    "                      port='5433',\n",
    "                      password=getpass.getpass('Insert password: ')\n",
    "                        )\n",
    "print(conn.get_dsn_parameters())\n",
    "\n",
    "\n"
   ]
  },
  {
   "cell_type": "code",
   "execution_count": null,
   "metadata": {},
   "outputs": [],
   "source": [
    "import pandas as pd\n",
    "\n",
    "\n",
    "# Увидим таблицу с рейтингом и его типом (используется школа агенства Эксперт РА)\n",
    "# Строка для указания промежутка времни \n",
    "\\\"DATE\\\" >=  AND \\\"DATE\\\" <=   \n",
    "\n",
    "\n",
    "query = \"\"\"SELECT rating_task1.\\\"GRADE\\\", rating_task1.\\\"RAT_TYPE\\\"\n",
    "        FROM rating_task1 \n",
    "        WHERE \"AGENCY_ID\" = 'EXP'\n",
    "        AND \\\"DATE\\\" >= '2014/01/01' AND \\\"DATE\\\" <= '2015/01/01' \n",
    "        AND \\\"CHANGE\\\" != 'снят' AND \\\"CHANGE\\\" != 'приостановлен'\"\"\"\n",
    "\n",
    "ratings=pd.read_sql_query(query, conn)\n",
    "ratings\n"
   ]
  },
  {
   "cell_type": "code",
   "execution_count": null,
   "metadata": {},
   "outputs": [],
   "source": [
    "# Выведем БД в таблицу с помощью запроса \n",
    "\n",
    "\n",
    "query1 = \"\"\"SELECT * \n",
    "FROM public.\"scale_EXP_task1\" \n",
    "WHERE \\\"GRADE\\\" != 'Снят' AND \\\"GRADE\\\" != 'Приостановлен'\"\"\"\n",
    "\n",
    "rat=pd.read_sql_query(query1, conn)\n",
    "rat\n"
   ]
  },
  {
   "cell_type": "code",
   "execution_count": null,
   "metadata": {},
   "outputs": [],
   "source": [
    "# Переведем 'GRADE_ID' в числовой формат\n",
    "\n",
    "rat['GRADE_ID'] = rat['GRADE_ID'].astype(int)\n",
    "\n",
    "# Объединим таблицы  \n",
    "\n",
    "x = pd.merge(rat, ratings, how='inner', on=['GRADE'])\n",
    "x\n",
    "\n",
    "# С помощью функции pivot создадим сводную таюлицу \n",
    "# Выведем количество компаний допустивших и недопустивших дефолт на заданном промежутке времени, сгруппированнуем по оценке\n",
    "\n",
    "ratings1 = x[['GRADE_ID', 'RAT_TYPE']]\n",
    "ratings1['def'] = ratings1['RAT_TYPE']\n",
    "ratings1['def'] = ratings1['def'].replace(to_replace = {'Cr&D': 'default', 'FS&R': 'non-default', 'R&QS': 'non-default'})\n",
    "ratings1 = ratings1.pivot_table(index = 'GRADE_ID', columns = 'def', aggfunc = 'count')\n",
    "ratings1 = ratings1.replace(to_replace = {float('nan'): 0})\n",
    "ratings1\n"
   ]
  },
  {
   "cell_type": "code",
   "execution_count": null,
   "metadata": {},
   "outputs": [],
   "source": [
    "import matplotlib.pyplot as plt\n",
    "\n",
    "# Создадим графика (bar chaert),зададим цвета для разных групп\n",
    "# допустили дефолт - красный, не допустили дефолт - зеленый\n",
    "\n",
    "plt.bar(ratings1.index.values, ratings1['RAT_TYPE']['default'].values, label = 'Non-default', color = 'g')\n",
    "plt.bar(ratings1.index.values, ratings1['RAT_TYPE']['non-default'].values,  label = 'Default', color = 'r')\n",
    "\n",
    "# Легенда \n",
    "\n",
    "plt.legend()\n",
    "\n",
    "data1 = '2014/01/01'\n",
    "data2 = '2015/01/01'\n",
    "\n",
    "# Заголовок Таблицы\n",
    "\n",
    "plt.title('Распределение допустивших и недопустивших дефолт заемщиков по рейтинговым категориям за период с  ' + str(data1) + ' до ' + str(data2))\n",
    "\n",
    "plt.show()\n",
    "\n",
    "plt.savefig('Распределение допустивших и недопустивших дефолт заемщиков по рейтинговым категориям.png')\n"
   ]
  },
  {
   "cell_type": "code",
   "execution_count": null,
   "metadata": {},
   "outputs": [],
   "source": [
    "# Добавим  функции распределения по рейтинговым категориям, по группам допустившим и не допустившим дефолт\n",
    "\n",
    "import pandas as pd\n",
    "\n",
    "\n",
    "ratings2 = pd.DataFrame(index = ratings1.index)\n",
    "\n",
    "\n",
    "ratings2['non-default'] = ratings1['RAT_TYPE'][0]\n",
    "ratings2['default'] = ratings1['RAT_TYPE'][1]\n",
    "ratings2['default_cumsum'] = ratings2['default'].cumsum()/ratings2['default'].sum()\n",
    "ratings2['non-default_cumsum'] = ratings2['non-default'].cumsum()/ratings2['non-default'].sum()\n",
    "ratings3 = ratings2[['default_cumsum', 'non-default_cumsum']]\n",
    "ratings3.plot(kind = 'bar', figsize = [10,10], fontsize = 10)\n",
    "plt.show()\n",
    "plt.savefig('Распределение недефолтеров и дефолтеров.png')\n"
   ]
  },
  {
   "cell_type": "code",
   "execution_count": null,
   "metadata": {},
   "outputs": [],
   "source": [
    "from __future__ import print_function\n",
    "from jinja2 import Environment, FileSystemLoader\n",
    "from weasyprint import HTML, Document\n",
    "import os\n",
    "\n",
    "env = Environment(loader=FileSystemLoader('.'))\n",
    "template = env.get_template(\"myreport.html\") \n",
    "template_vars = {\"title\": \"Отчет составила Пантелеева Ирина\",\n",
    "                \"INTRO\": \"Данный отчет содержит информации о распределении дефолтеров и недефолтеров по рейтинговым категориям\", \n",
    "                 \"TABLE_DESC\": \"Таблица. В таблице представлено количество компаний, допустивших и недопустивших дефолт, по рейтинговым категориям\",\n",
    "                 \"TABLE\": ratings1.to_html(), \n",
    "                 \"IMAGE_DESC\": \"Рисунок. На графике изображено распределение компаний, допустивших и недопустивших дефолт, по рейтинговым категориям\", \n",
    "                 \"IMAGE\": os.path.realpath('Распределение допустивших и недопустивших дефолт заемщиков по рейтинговым категориям.png')\n",
    "                }\n",
    "\n",
    "\n",
    "# os.path.realpath - путь к файлу в папке на mac os\n",
    "\n",
    "\n",
    "\n",
    "# Собираем и выводим финальные данные\n",
    "html_out = template.render(template_vars, presentational_hints=True)\n",
    "HTML(string=html_out).write_pdf('my_report.pdf', presentational_hints=True)"
   ]
  }
 ],
 "metadata": {
  "kernelspec": {
   "display_name": "Python 3",
   "language": "python",
   "name": "python3"
  },
  "language_info": {
   "codemirror_mode": {
    "name": "ipython",
    "version": 3
   },
   "file_extension": ".py",
   "mimetype": "text/x-python",
   "name": "python",
   "nbconvert_exporter": "python",
   "pygments_lexer": "ipython3",
   "version": "3.7.3"
  }
 },
 "nbformat": 4,
 "nbformat_minor": 2
}
