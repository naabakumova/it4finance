{
 "cells": [
  {
   "cell_type": "markdown",
   "metadata": {},
   "source": [
    "# ДЗ №3. Кредитные рейтинги"
   ]
  },
  {
   "cell_type": "markdown",
   "metadata": {},
   "source": [
    "## Пункт 1. Построим распределение допустивших и недопустивших дефолт заемщиков по рейтинговым категориям"
   ]
  },
  {
   "cell_type": "code",
   "execution_count": 5,
   "metadata": {},
   "outputs": [
    {
     "name": "stdout",
     "output_type": "stream",
     "text": [
      "Пожалуйста, введите пароль: ········\n",
      "Пожалуйста, введите тип рейтинга: 14\n",
      "Пример формата даты: 2019-03-14\n",
      "Пожалуйста, введите левую границу периода: 2011-11-11\n",
      "Пожалуйста, введите правую границу периода: 2015-05-05\n"
     ]
    }
   ],
   "source": [
    "# 1) Откроем Anaconda Prompt и исполним следующее: pip install psycopg2\n",
    "\n",
    "# 2) Произведем соединение питона с базой данных:\n",
    "\n",
    "# 2.1) Загрузим драйвер для SQL:\n",
    "\n",
    "import psycopg2\n",
    "\n",
    "# 2.2) Загрузим средство для того, чтобы спрятать пароль:\n",
    "\n",
    "import getpass\n",
    "\n",
    "# 2.3) Зададим переменную, через которую будет устанавливаться соединение с БД:\n",
    "\n",
    "connect_db = psycopg2.connect(user='postgres',\n",
    "                        database='postgres',\n",
    "                        host='localhost',\n",
    "                        port='5432',\n",
    "                        password=getpass.getpass('Пожалуйста, введите пароль: '))\n",
    "\n",
    "# 3) Для дальнейшей работы потребуются данные о кредитных рейтингах компаний, включающие в себя их рейтинг, информацию об изме-\n",
    "# нении рейтинга, дату изменения рейтинга, название самой компании и уникальный id категории рейтинга:\n",
    "\n",
    "# 3.1) Импортируем библиотеку pandas для обработки и анализа данных:\n",
    "\n",
    "import pandas as pd\n",
    "\n",
    "# 3.2) Создаем запрос для сбора необходимой информации:\n",
    "\n",
    "query = \"\"\"DROP TABLE if exists public.homework;\n",
    "           CREATE TABLE public.homework\n",
    "           (\n",
    "           grade text,\n",
    "           change text,\n",
    "           date date,\n",
    "           ent_name text,\n",
    "           rat_id smallint\n",
    "           )\n",
    "           TABLESPACE pg_default;\n",
    "           ALTER TABLE public.homework OWNER to postgres; \n",
    "           INSERT INTO homework\n",
    "           SELECT qry.grade, change, date, ent_name, qry.rat_id\n",
    "           FROM (SELECT grade, change, date, ent_name, ratings.rat_id \n",
    "                 FROM ratings JOIN ratings2 ON ratings.rat_id = ratings2.rat_id WHERE agency_id = 'EXP') as qry JOIN scale_exp\n",
    "           ON qry.grade = scale_exp.grade\n",
    "           WHERE change <> 'снят' AND change <> 'приостановлен';\n",
    "           INSERT INTO homework (grade, date, ent_name)\n",
    "           SELECT grade, date, ent_name\n",
    "           FROM credit_events\n",
    "           WHERE grade = 'D';\n",
    "           SELECT * FROM homework;\"\"\"\n",
    "\n",
    "# 3.3) Читаем составленный запрос с помощью read_sql_query и результат чтения помещаем в перменную:\n",
    "\n",
    "query = pd.read_sql_query(query,connect_db)\n",
    "\n",
    "# 4) Запрашиваем пользовательские данные:\n",
    "\n",
    "rat_type = int(input('Пожалуйста, введите тип рейтинга: '))\n",
    "\n",
    "print('Пример формата даты: 2019-03-14')\n",
    "\n",
    "left_b = input('Пожалуйста, введите левую границу периода: ')\n",
    "\n",
    "right_b = input('Пожалуйста, введите правую границу периода: ')\n",
    "\n",
    "# 5) С помощью кода, написанного для ДЗ1, находим актуальный рейтинги для границ периода:\n",
    "\n",
    "query_l = \"\"\"SELECT ent_name, grade\n",
    "             FROM public.homework INNER JOIN (SELECT MAX(date) AS assign_date, ent_name AS ent_name_x\n",
    "                                              FROM public.homework\n",
    "                                              WHERE rat_id = \"\"\" + str(rat_type) + \"\"\" \n",
    "                                              AND date <= '\"\"\" + left_b + \"\"\"' \n",
    "                                              GROUP BY ent_name) as iks\n",
    "             ON public.homework.date = iks.assign_date\n",
    "             AND public.homework.ent_name = iks.ent_name_x\n",
    "             WHERE change <> 'снят' AND change <> 'приостановлен' AND rat_id = \"\"\" + str(rat_type) + \"\"\";\"\"\"\n",
    "\n",
    "query_r = \"\"\"SELECT ent_name, grade\n",
    "             FROM public.homework INNER JOIN (SELECT MAX(date) AS assign_date, ent_name AS ent_name_x\n",
    "                                              FROM public.homework\n",
    "                                              WHERE rat_id = \"\"\" + str(rat_type) + \"\"\" \n",
    "                                              AND date <= '\"\"\" + right_b + \"\"\"' \n",
    "                                              GROUP BY ent_name) as iks\n",
    "             ON public.homework.date = iks.assign_date\n",
    "             AND public.homework.ent_name = iks.ent_name_x\n",
    "             WHERE change <> 'снят' AND change <> 'приостановлен' AND rat_id = \"\"\" + str(rat_type) + \"\"\";\"\"\"\n",
    "\n",
    "query_l = pd.read_sql_query(query_l, connect_db)\n",
    "\n",
    "query_r = pd.read_sql_query(query_r, connect_db)\n",
    "\n",
    "# 6) На данном этапе мы имеем две таблицы с актуальными рейтингами на даты, соответствующие границам периода. Далее формируем\n",
    "# такую таблицу, в которой содержатся рейтинги компаний, не имеющих дефолтный рейтинг в начале периода и  имеющих любой рейтинг\n",
    "# на конец периода:\n",
    "\n",
    "query_l = query_l[query_l['grade'] != 'D']\n",
    "\n",
    "query_l = query_l[query_l['grade'] != 'E']\n",
    "\n",
    "merged = query_l.merge(query_r, left_on = 'ent_name', right_on = 'ent_name')\n",
    "\n",
    "# 7) Напишем функцию, которая считает количество дефолтеров и недефолтеров для каждой рейтинговой категории:\n",
    "\n",
    "def fun_default(table):\n",
    "    \n",
    "    ratings = ['A++', 'A+', 'A', 'B++', 'B+', 'B', 'C++', 'C+', 'C']\n",
    "    \n",
    "    t_shape = table.shape[0]\n",
    "      \n",
    "    list1 = []\n",
    "    \n",
    "    list2 = []\n",
    "    \n",
    "    default = 0\n",
    "    \n",
    "    non_default = 0\n",
    "    \n",
    "    for i in range (0, 9):\n",
    "\n",
    "        rat_i = ratings[i]\n",
    "\n",
    "        for j in range (0, t_shape):\n",
    "\n",
    "            grade_x = table.iloc[j]['grade_x']\n",
    "\n",
    "            grade_y = table.iloc[j]['grade_y']\n",
    "\n",
    "            if grade_x == rat_i and (grade_y == 'D' or grade_y == 'E'):\n",
    "                \n",
    "                default = default + 1\n",
    "            \n",
    "            elif grade_x == rat_i and (grade_y != 'D' and grade_y != 'E'):\n",
    "                \n",
    "                non_default = non_default + 1\n",
    "       \n",
    "        list1.append(default)\n",
    "\n",
    "        list2.append(non_default)\n",
    "\n",
    "        default = 0\n",
    "        \n",
    "        non_default = 0\n",
    "    \n",
    "    distr = pd.DataFrame({'default': list1, 'non-default': list2}, index=ratings)\n",
    "\n",
    "    return distr\n",
    "    \n",
    "# 8) Воспользуемся написанной функцией и получим таблицу распределения:\n",
    "\n",
    "result = fun_default(merged)"
   ]
  },
  {
   "cell_type": "markdown",
   "metadata": {},
   "source": [
    "## Пункт 2. Визуализируем полученное распределение с помощью графика вида bar"
   ]
  },
  {
   "cell_type": "code",
   "execution_count": 6,
   "metadata": {},
   "outputs": [
    {
     "data": {
      "image/png": "[encoded data removed]",
      "text/plain": [
       "<Figure size 432x288 with 1 Axes>"
      ]
     },
     "metadata": {
      "needs_background": "light"
     },
     "output_type": "display_data"
    }
   ],
   "source": [
    "# 1) Подсчитаем суммарное количество дефолтеров и недефолтеров для каждой рейтинговой категории:\n",
    "\n",
    "result['total'] = result['default'] + result['non-default']\n",
    "\n",
    "# 2) Импортируем пакет для построения графика:\n",
    "\n",
    "import matplotlib.pyplot as plt\n",
    "\n",
    "# 3) Выбираем данные, строим легенду и сетку, подписываем оси, а также даем графику название:\n",
    "\n",
    "plt.bar(result.index, result['total'],color = 'blue')\n",
    "\n",
    "plt.bar(result.index, result['default'],color = 'red')\n",
    "\n",
    "plt.xlabel('Рейтинг')\n",
    "\n",
    "plt.ylabel('Всего default и non-default')\n",
    "\n",
    "plt.legend(['non-default','default'])\n",
    "\n",
    "plt.grid(axis='y', color='black', linestyle='--', linewidth=1)\n",
    "\n",
    "plt.title('Распределение допустивших и недопустивших дефолт заемщиков для ' + str(rat_type) + ' типа рейтинга за  следующий период: ' + left_b + ' - ' + right_b + '\\n')\n",
    "\n",
    "# 4) Визуализируем график:\n",
    "\n",
    "plt.show()"
   ]
  },
  {
   "cell_type": "markdown",
   "metadata": {},
   "source": [
    "## Пункт 3. Построение кривой ROC (receiver operating characteristic):"
   ]
  },
  {
   "cell_type": "code",
   "execution_count": 7,
   "metadata": {},
   "outputs": [
    {
     "data": {
      "image/png": "[encoded data removed]",
      "text/plain": [
       "<Figure size 432x288 with 1 Axes>"
      ]
     },
     "metadata": {
      "needs_background": "light"
     },
     "output_type": "display_data"
    }
   ],
   "source": [
    "# 1) Напишем функцию для вычисления необходимых для построения ROC-кривой показателей:\n",
    "\n",
    "def fun_roc(table):\n",
    "    \n",
    "    def_sum = table['default'].sum()\n",
    "    \n",
    "    non_def_sum = table['non-default'].sum()\n",
    "    \n",
    "    index = [0, 1, 2, 3, 4, 5, 6, 7, 8]\n",
    "    \n",
    "    table.index = index\n",
    "\n",
    "    var1 = 0\n",
    "    \n",
    "    var2 = 0\n",
    "    \n",
    "    list1 = []\n",
    "    \n",
    "    list2 = []\n",
    "    \n",
    "    for i in range (8, -1, -1):\n",
    "\n",
    "        var1 = table.iloc[i]['default'] + var1\n",
    "        \n",
    "        var2 = table.iloc[i]['non-default'] + var2\n",
    "\n",
    "        if def_sum != 0:\n",
    "            \n",
    "            var3 = var1/def_sum\n",
    "            \n",
    "        else:\n",
    "            \n",
    "            var3 = 0\n",
    "            \n",
    "        if non_def_sum != 0:\n",
    "            \n",
    "            var4 = var2/non_def_sum\n",
    "            \n",
    "        else:\n",
    "            \n",
    "            var4 = 0\n",
    "            \n",
    "        list1.append(var3)\n",
    "        \n",
    "        list2.append(var4)\n",
    "        \n",
    "    return list1, list2\n",
    "\n",
    "# 2) Воспользуемся написанной функцией:\n",
    "\n",
    "roc1, roc2 = fun_roc(result)\n",
    "\n",
    "# 3) Построим и визуализируем нужный график:\n",
    "\n",
    "plt.title('ROC-кривая для ' + str(rat_type) + ' типа рейтинга за следующий период: ' + left_b + ' - ' + right_b + '\\n')\n",
    "\n",
    "plt.plot(roc1, roc2, marker = 'o', color = 'r', linestyle='--')\n",
    "\n",
    "plt.xlabel('Distribution function of non-defaulters')\n",
    "\n",
    "plt.ylabel('Distribution function of defaulters')\n",
    "\n",
    "plt.grid()\n",
    "\n",
    "plt.show()"
   ]
  },
  {
   "cell_type": "markdown",
   "metadata": {},
   "source": [
    "# ДЗ №4. Кредитные рейтинги"
   ]
  },
  {
   "cell_type": "markdown",
   "metadata": {},
   "source": [
    "## Пункт 1. Экспорт полученного ранее графика или таблицы (на выбор)"
   ]
  },
  {
   "cell_type": "code",
   "execution_count": 8,
   "metadata": {},
   "outputs": [
    {
     "name": "stdout",
     "output_type": "stream",
     "text": [
      "Укажите, что нужно экспортировать, график ROC-кривой - 0 или таблицу результатов распределения дефолтеров\n",
      "и недефолтеров - 1: 0\n",
      "Укажите путь к папке, в которую будет сохранен график (например: C:/Users/Public/IT4F/): C:/Users/Public/IT4F/\n",
      "Укажите имя создаваемого графика: \n"
     ]
    },
    {
     "data": {
      "image/png": "[encoded data removed]",
      "text/plain": [
       "<Figure size 432x288 with 1 Axes>"
      ]
     },
     "metadata": {
      "needs_background": "light"
     },
     "output_type": "display_data"
    }
   ],
   "source": [
    "# 1) Запрашиваем у пользователя входные данные:\n",
    "\n",
    "choice = int(input('''Укажите, что нужно экспортировать, график ROC-кривой - 0 или таблицу результатов распределения дефолтеров\n",
    "и недефолтеров - 1: '''))\n",
    "\n",
    "# 2) Составим алгоритм для экспорта таблицы или графика со всеми необходимыми параметрами:\n",
    "\n",
    "if choice == 0:\n",
    "    \n",
    "    folder = input('Укажите путь к папке, в которую будет сохранен график (например: C:/Users/Public/IT4F/): ')\n",
    "    \n",
    "    name = input('Укажите имя создаваемого графика: ')\n",
    "    \n",
    "    if name == '':\n",
    "        \n",
    "        name = 'ROC-curve'\n",
    "    \n",
    "    plt.title('ROC-кривая для ' + str(rat_type) + ' типа рейтинга за следующий период: ' + left_b + ' - ' + right_b + '\\n')\n",
    "\n",
    "    plt.plot(roc1, roc2, marker = 'o', color = 'r', linestyle='--')\n",
    "\n",
    "    plt.xlabel('Distribution function of non-defaulters')\n",
    "\n",
    "    plt.ylabel('Distribution function of defaulters')\n",
    "\n",
    "    plt.grid()\n",
    "    \n",
    "    plt.savefig(folder + name + '.png', dpi = 100)\n",
    "    \n",
    "else:\n",
    "    \n",
    "    folder = input('Укажите путь к папке, в которую будет сохранена таблица (например: C:/Users/Public/IT4F/): ')\n",
    "    \n",
    "    name = input('Укажите имя создаваемой таблицы: ')\n",
    "    \n",
    "    if name == '':\n",
    "        \n",
    "        name = 'Def_or_non_table'\n",
    "   \n",
    "    result.to_csv(folder + name + '.csv')"
   ]
  },
  {
   "cell_type": "markdown",
   "metadata": {},
   "source": [
    "## Пункт 2. Автоматическая генерация отчета о результатах расчетов в PDF"
   ]
  },
  {
   "cell_type": "code",
   "execution_count": 9,
   "metadata": {},
   "outputs": [
    {
     "name": "stdout",
     "output_type": "stream",
     "text": [
      "Укажите имя отчета: \n",
      "Укажите путь к папке, в которую будет сохранен отчет (например: C:/Users/Public/IT4F/): C:/Users/Public/IT4F/\n"
     ]
    }
   ],
   "source": [
    "# 1) Последовательо по пунктам проведем подготовительные работы для генерации отчета:\n",
    "\n",
    "# 1.1) Выполняем в Anaconda Prompt по очереди следующие команды:\n",
    "\n",
    "# pip install jinja2\n",
    "\n",
    "# pip install weasyprint\n",
    "\n",
    "# pip install --upgrade pip setuptools\n",
    "\n",
    "# 1.2) Переходим по ссылке, скачиваем и устаналиваем программу с настройками по умолчанию:\n",
    "\n",
    "# https://github.com/tschoonj/GTK-for-Windows-Runtime-Environment-Installer/releases/download/2019-11-07/gtk3-runtime-3.24.12-2019-11-07-ts-win64.exe\n",
    "\n",
    "# 1.3) Выполняем в Anaconda Prompt по очереди следующие команды:\n",
    "\n",
    "# SET PROPER_GTK_FOLDER='C:\\Program Files\\GTK3-Runtime Win64\\bin'\n",
    "\n",
    "# SET PATH=%PROPER_GTK_FOLDER%;%PATH%\n",
    "\n",
    "# PATH (на данном этапе нам необходимо убедиться, что добавленная директория появилась в списке)\n",
    "\n",
    "# 1.4) Перезапускаем Jupyter и импортируем необходимые ресурсы:\n",
    "\n",
    "from __future__ import print_function\n",
    "\n",
    "from jinja2 import Environment, FileSystemLoader\n",
    "\n",
    "from weasyprint import HTML, Document\n",
    "\n",
    "import os\n",
    "\n",
    "# 1.5) Скачиваем шаблон \"myreport.html\" в папке seminars на GitHub, помещаем его в рабочую директорию и создаем отчет:\n",
    "\n",
    "envi = Environment(loader=FileSystemLoader('.'))\n",
    "\n",
    "template = envi.get_template(\"myreport.html\")\n",
    "\n",
    "template_vars = {\"title\": \"Отчет составлен Абакумовой Натальей\",\n",
    "                \"INTRO\": \"Отчет несет в себе информацию о распределении компаний на допустивших и недопустивших дефолт для \" + str(rat_type) + \" типа рейтинга за следующий период: \" + left_b + \" - \" + right_b, \n",
    "                 \"TABLE_DESC\": \"Таблица несет в себе информацию о распределении компаний на допустивших и недопустивших дефолт для \" + str(rat_type) + \" типа рейтинга за следующий период: \" + left_b + \" - \" + right_b, \n",
    "                 \"TABLE\": result.to_html(), \n",
    "                 \"IMAGE_DESC\": \"На графике изображена ROC-кривая для \" + str(rat_type) + \" типа рейтинга за следующий период: \" + left_b + \" - \" + right_b, \n",
    "                 \"IMAGE\": os.path.realpath(folder + name + '.png')\n",
    "                }\n",
    "\n",
    "report = input('Укажите имя отчета: ')\n",
    "\n",
    "if report == '':\n",
    "    \n",
    "    report = 'Table_and_ROC'\n",
    "\n",
    "rep_folder = input('Укажите путь к папке, в которую будет сохранен отчет (например: C:/Users/Public/IT4F/): ')\n",
    "    \n",
    "html_out = template.render(template_vars, presentational_hints=True)\n",
    "\n",
    "HTML(string=html_out).write_pdf(rep_folder + report + '.pdf', presentational_hints=True)"
   ]
  }
 ],
 "metadata": {
  "kernelspec": {
   "display_name": "Python 3",
   "language": "python",
   "name": "python3"
  },
  "language_info": {
   "codemirror_mode": {
    "name": "ipython",
    "version": 3
   },
   "file_extension": ".py",
   "mimetype": "text/x-python",
   "name": "python",
   "nbconvert_exporter": "python",
   "pygments_lexer": "ipython3",
   "version": "3.7.3"
  }
 },
 "nbformat": 4,
 "nbformat_minor": 2
}
