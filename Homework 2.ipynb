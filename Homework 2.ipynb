{
 "cells": [
  {
   "cell_type": "markdown",
   "metadata": {},
   "source": [
    "# ДЗ №2. Кредитные рейтинги"
   ]
  },
  {
   "cell_type": "markdown",
   "metadata": {},
   "source": [
    "## Пункт 1. Соединение Python с базой данных по API"
   ]
  },
  {
   "cell_type": "code",
   "execution_count": 2,
   "metadata": {},
   "outputs": [
    {
     "name": "stdout",
     "output_type": "stream",
     "text": [
      "Пожалуйста, введите пароль: ········\n"
     ]
    }
   ],
   "source": [
    "# 1) Импортируем необходимые для работы ресурсы:\n",
    "\n",
    "import psycopg2\n",
    "\n",
    "import getpass\n",
    "\n",
    "# 2) Создадим соединение с базой данных по API:\n",
    "\n",
    "connect_db = psycopg2.connect(user='postgres',\n",
    "                        database='postgres',\n",
    "                        host='localhost',\n",
    "                        port='5432',\n",
    "                        password=getpass.getpass('Пожалуйста, введите пароль: '))"
   ]
  },
  {
   "cell_type": "markdown",
   "metadata": {},
   "source": [
    "## Пункт 2. Запрос необходимых данных из созданной в ходе выполнения ДЗ1 БД"
   ]
  },
  {
   "cell_type": "code",
   "execution_count": 3,
   "metadata": {},
   "outputs": [],
   "source": [
    "# 1) Импортируем библиотеку pandas для обработки и анализа данных:\n",
    "\n",
    "import pandas as pd\n",
    "\n",
    "# 2) Создадим запрос в БД с учетом данных ДЗ1:\n",
    "\n",
    "query = \"\"\"DROP TABLE if exists public.homework;\n",
    "           CREATE TABLE public.homework\n",
    "           (\n",
    "           grade text,\n",
    "           change text,\n",
    "           date date,\n",
    "           ent_name text,\n",
    "           rat_id smallint\n",
    "           )\n",
    "           TABLESPACE pg_default;\n",
    "           ALTER TABLE public.homework OWNER to postgres; \n",
    "           INSERT INTO homework\n",
    "           SELECT qry.grade, change, date, ent_name, qry.rat_id\n",
    "           FROM (SELECT grade, change, date, ent_name, ratings.rat_id \n",
    "                 FROM ratings JOIN ratings2 ON ratings.rat_id = ratings2.rat_id WHERE agency_id = 'EXP') as qry JOIN scale_exp\n",
    "           ON qry.grade = scale_exp.grade\n",
    "           WHERE change <> 'снят' AND change <> 'приостановлен';\n",
    "           INSERT INTO homework (grade, date, ent_name)\n",
    "           SELECT grade, date, ent_name\n",
    "           FROM credit_events\n",
    "           WHERE grade = 'D';\n",
    "           SELECT * FROM homework;\"\"\"\n",
    "\n",
    "# 3) Передаем с помощью созданного соединения запрос в БД, а результат записываем в переменную:\n",
    "\n",
    "query_1 = pd.read_sql_query(query,connect_db)"
   ]
  },
  {
   "cell_type": "markdown",
   "metadata": {},
   "source": [
    "## Пункт 3. Написание функции для построения матричных характеристик переходов"
   ]
  },
  {
   "cell_type": "code",
   "execution_count": null,
   "metadata": {},
   "outputs": [],
   "source": [
    "def fun_hw2(rating, bounds, matrix):"
   ]
  }
 ],
 "metadata": {
  "kernelspec": {
   "display_name": "Python 3",
   "language": "python",
   "name": "python3"
  },
  "language_info": {
   "codemirror_mode": {
    "name": "ipython",
    "version": 3
   },
   "file_extension": ".py",
   "mimetype": "text/x-python",
   "name": "python",
   "nbconvert_exporter": "python",
   "pygments_lexer": "ipython3",
   "version": "3.7.3"
  }
 },
 "nbformat": 4,
 "nbformat_minor": 2
}
