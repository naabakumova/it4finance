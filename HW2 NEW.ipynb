{
 "cells": [
  {
   "cell_type": "code",
   "execution_count": 3,
   "metadata": {},
   "outputs": [
    {
     "name": "stdout",
     "output_type": "stream",
     "text": [
      "Insert password: ········\n",
      "{'user': 'postgres', 'dbname': 'postgres', 'host': 'localhost', 'port': '5432', 'tty': '', 'options': '', 'sslmode': 'prefer', 'sslcompression': '0', 'krbsrvname': 'postgres', 'target_session_attrs': 'any'}\n"
     ]
    }
   ],
   "source": [
    "import psycopg2\n",
    "\n",
    "import getpass # скрывает пароль, при необходимости\n",
    "\n",
    "# в строке password вам необходимо указать свой пароль от базы данных\n",
    "\n",
    "conn=psycopg2.connect(user='postgres',\n",
    "    database='postgres',\n",
    "    host='localhost',\n",
    "    port='5433',\n",
    "    password=getpass.getpass('Insert password: ')\n",
    "    )\n",
    "\n",
    "print(conn.get_dsn_parameters())\n",
    "\n",
    "# Результат задания 1: происходит соединение с базой данных"
   ]
  },
  {
   "cell_type": "code",
   "execution_count": 4,
   "metadata": {},
   "outputs": [],
   "source": [
    "# Задание 2\n",
    "\n",
    "# Вынесене данных с помощью pandas\n",
    "\n",
    "import pandas as pd\n",
    "\n",
    "# Python воспринимает информацию, как обычный текст, если она отделена символом \\\n",
    "\n",
    "# Для того чтобы написать запрос sql в несколько строчек,\n",
    "\n",
    "# необходимо применить три раза двойные кавычки перед запросом и в конце запроса."
   ]
  },
  {
   "cell_type": "code",
   "execution_count": null,
   "metadata": {},
   "outputs": [],
   "source": [
    "# query=\"\"\"SELECT rating_task1.\\\"ENT_NAME\\\", rating_task1.\\\"GRADE\\\", rating_task1.\\\"DATE\\\"\n",
    "#         FROM rating_task1\n",
    "#         INNER JOIN (SELECT \\\"ENT_NAME\\\", \\\"DATE\\\"\n",
    "#         FROM rating_task1\n",
    "#         WHERE \\\"AGENCY_ID\\\" = 'EXP'\n",
    "#         AND \\\"DATE\\\" >= '2014/01/01' AND \\\"DATE\\\" <= '2015/01/01'\n",
    "#         GROUP BY \\\"ENT_NAME\\\", \\\"DATE\\\")\n",
    "#         p ON rating_task1.\\\"ENT_NAME\\\" = p.\\\"ENT_NAME\\\"\n",
    "#         AND rating_task1.\\\"DATE\\\"=p.\\\"DATE\\\"\n",
    "#         WHERE \\\"CHANGE\\\" != 'снят' AND \\\"CHANGE\\\" != 'приостановлен'\"\"\"\n",
    "\n",
    "query = pd.read_csv('quotes.csv')\n",
    "\n",
    "data=pd.read_sql_query(query, conn)\n",
    "\n",
    "data"
   ]
  }
 ],
 "metadata": {
  "kernelspec": {
   "display_name": "Python 3",
   "language": "python",
   "name": "python3"
  },
  "language_info": {
   "codemirror_mode": {
    "name": "ipython",
    "version": 3
   },
   "file_extension": ".py",
   "mimetype": "text/x-python",
   "name": "python",
   "nbconvert_exporter": "python",
   "pygments_lexer": "ipython3",
   "version": "3.7.3"
  }
 },
 "nbformat": 4,
 "nbformat_minor": 2
}
